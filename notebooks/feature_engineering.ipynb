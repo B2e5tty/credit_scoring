{
 "cells": [
  {
   "cell_type": "markdown",
   "metadata": {},
   "source": [
    "# Feature Engineering\n",
    "- Create Aggregate Features\n",
    "- Extract Features\n",
    "- Encode Categorical Variables\n",
    "- Handle Missing Values\n",
    "- Normalize/Standardize Numerical Features"
   ]
  },
  {
   "cell_type": "code",
   "execution_count": 113,
   "metadata": {},
   "outputs": [],
   "source": [
    "import pandas as pd\n",
    "import numpy as np\n",
    "import importlib\n",
    "\n",
    "import os\n",
    "import sys\n",
    "\n",
    "sys.path.append(os.path.abspath(os.path.join('..','src')))\n",
    "\n",
    "import eda\n",
    "importlib.reload(eda)\n",
    "\n",
    "import feature_eng\n",
    "importlib.reload(feature_eng)\n",
    "\n",
    "import warnings\n",
    "warnings.filterwarnings('ignore')"
   ]
  },
  {
   "cell_type": "code",
   "execution_count": 114,
   "metadata": {},
   "outputs": [
    {
     "name": "stdout",
     "output_type": "stream",
     "text": [
      "New shape of the dataframe: (95662, 14)\n",
      "<class 'pandas.core.frame.DataFrame'>\n",
      "RangeIndex: 95662 entries, 0 to 95661\n",
      "Data columns (total 14 columns):\n",
      " #   Column                Non-Null Count  Dtype         \n",
      "---  ------                --------------  -----         \n",
      " 0   TransactionId         95662 non-null  category      \n",
      " 1   BatchId               95662 non-null  category      \n",
      " 2   AccountId             95662 non-null  category      \n",
      " 3   SubscriptionId        95662 non-null  category      \n",
      " 4   CustomerId            95662 non-null  category      \n",
      " 5   ProviderId            95662 non-null  category      \n",
      " 6   ProductId             95662 non-null  category      \n",
      " 7   ProductCategory       95662 non-null  category      \n",
      " 8   ChannelId             95662 non-null  category      \n",
      " 9   Amount                95662 non-null  float64       \n",
      " 10  Value                 95662 non-null  int64         \n",
      " 11  TransactionStartTime  95662 non-null  datetime64[ns]\n",
      " 12  PricingStrategy       95662 non-null  category      \n",
      " 13  FraudResult           95662 non-null  int64         \n",
      "dtypes: category(10), datetime64[ns](1), float64(1), int64(2)\n",
      "memory usage: 10.6 MB\n",
      "Information on the new dataset: None\n"
     ]
    }
   ],
   "source": [
    "# intialize the feature engineering clas\n",
    "fre_eng = feature_eng.FeatEng('data.csv')\n",
    "fre_eng.change_datatype()\n",
    "\n",
    "df = fre_eng.get_dataframe()"
   ]
  },
  {
   "cell_type": "code",
   "execution_count": 115,
   "metadata": {},
   "outputs": [
    {
     "name": "stdout",
     "output_type": "stream",
     "text": [
      "(95662, 20)\n",
      "Shape of the dataframe (95662, 24)\n",
      "<class 'pandas.core.frame.DataFrame'>\n",
      "RangeIndex: 95662 entries, 0 to 95661\n",
      "Data columns (total 24 columns):\n",
      " #   Column                   Non-Null Count  Dtype         \n",
      "---  ------                   --------------  -----         \n",
      " 0   TransactionId            95662 non-null  int64         \n",
      " 1   BatchId                  95662 non-null  int64         \n",
      " 2   AccountId                95662 non-null  int64         \n",
      " 3   SubscriptionId           95662 non-null  int64         \n",
      " 4   CustomerId               95662 non-null  int64         \n",
      " 5   ProviderId               95662 non-null  int64         \n",
      " 6   ProductId                95662 non-null  int64         \n",
      " 7   ProductCategory          95662 non-null  int64         \n",
      " 8   ChannelId                95662 non-null  int64         \n",
      " 9   Amount                   95662 non-null  float64       \n",
      " 10  Value                    95662 non-null  int64         \n",
      " 11  TransactionStartTime     95662 non-null  datetime64[ns]\n",
      " 12  PricingStrategy          95662 non-null  int64         \n",
      " 13  FraudResult              95662 non-null  int64         \n",
      " 14  Amount_Total             95662 non-null  float64       \n",
      " 15  Amount_Average           95662 non-null  float64       \n",
      " 16  Amount_std               94950 non-null  float64       \n",
      " 17  TransactionId_frequency  95662 non-null  int64         \n",
      " 18  Recency                  95662 non-null  int64         \n",
      " 19  FraudResult_severity     95662 non-null  int64         \n",
      " 20  Month                    95662 non-null  int32         \n",
      " 21  Year                     95662 non-null  int32         \n",
      " 22  Day                      95662 non-null  int32         \n",
      " 23  Hour                     95662 non-null  int32         \n",
      "dtypes: datetime64[ns](1), float64(4), int32(4), int64(15)\n",
      "memory usage: 16.1 MB\n",
      "Columns informatio: None\n"
     ]
    }
   ],
   "source": [
    "# add total transaction feature\n",
    "fre_eng.aggregate_transaction()     # calculate RFMS values\n",
    "\n",
    "# extract each parts of datetime\n",
    "fre_eng.extract_datetime()\n",
    "\n",
    "# change categorical features to numerical\n",
    "fre_eng.label_encoder()"
   ]
  },
  {
   "cell_type": "code",
   "execution_count": 116,
   "metadata": {},
   "outputs": [
    {
     "name": "stdout",
     "output_type": "stream",
     "text": [
      "Column containing null value: Amount_std\n"
     ]
    },
    {
     "data": {
      "text/html": [
       "<div>\n",
       "<style scoped>\n",
       "    .dataframe tbody tr th:only-of-type {\n",
       "        vertical-align: middle;\n",
       "    }\n",
       "\n",
       "    .dataframe tbody tr th {\n",
       "        vertical-align: top;\n",
       "    }\n",
       "\n",
       "    .dataframe thead th {\n",
       "        text-align: right;\n",
       "    }\n",
       "</style>\n",
       "<table border=\"1\" class=\"dataframe\">\n",
       "  <thead>\n",
       "    <tr style=\"text-align: right;\">\n",
       "      <th></th>\n",
       "      <th>TransactionId</th>\n",
       "      <th>BatchId</th>\n",
       "      <th>AccountId</th>\n",
       "      <th>SubscriptionId</th>\n",
       "      <th>CustomerId</th>\n",
       "      <th>ProviderId</th>\n",
       "      <th>ProductId</th>\n",
       "      <th>ProductCategory</th>\n",
       "      <th>ChannelId</th>\n",
       "      <th>Amount</th>\n",
       "      <th>...</th>\n",
       "      <th>Amount_Total</th>\n",
       "      <th>Amount_Average</th>\n",
       "      <th>Amount_std</th>\n",
       "      <th>TransactionId_frequency</th>\n",
       "      <th>Recency</th>\n",
       "      <th>FraudResult_severity</th>\n",
       "      <th>Month</th>\n",
       "      <th>Year</th>\n",
       "      <th>Day</th>\n",
       "      <th>Hour</th>\n",
       "    </tr>\n",
       "  </thead>\n",
       "  <tbody>\n",
       "  </tbody>\n",
       "</table>\n",
       "<p>0 rows × 24 columns</p>\n",
       "</div>"
      ],
      "text/plain": [
       "Empty DataFrame\n",
       "Columns: [TransactionId, BatchId, AccountId, SubscriptionId, CustomerId, ProviderId, ProductId, ProductCategory, ChannelId, Amount, Value, TransactionStartTime, PricingStrategy, FraudResult, Amount_Total, Amount_Average, Amount_std, TransactionId_frequency, Recency, FraudResult_severity, Month, Year, Day, Hour]\n",
       "Index: []\n",
       "\n",
       "[0 rows x 24 columns]"
      ]
     },
     "execution_count": 116,
     "metadata": {},
     "output_type": "execute_result"
    }
   ],
   "source": [
    "# null value columns\n",
    "fre_eng.null_col()\n",
    "\n",
    "# check\n",
    "df = fre_eng.get_dataframe()\n",
    "df[df['Amount_std'].isnull()]"
   ]
  },
  {
   "cell_type": "code",
   "execution_count": 117,
   "metadata": {},
   "outputs": [],
   "source": [
    "# standardization of the data\n",
    "fre_eng.normalization()\n",
    "\n",
    "# adding a risk score column\n",
    "fre_eng.risk_score()"
   ]
  },
  {
   "cell_type": "markdown",
   "metadata": {},
   "source": [
    "- Amount_std is null for customers with only one transaction."
   ]
  },
  {
   "cell_type": "code",
   "execution_count": 118,
   "metadata": {},
   "outputs": [
    {
     "name": "stdout",
     "output_type": "stream",
     "text": [
      "[[-5.02732029e-03  1.19919614e-03 -2.73165603e-02  6.96326779e-02]\n",
      " [ 1.18243814e+00 -2.82053893e-01  6.42492243e+00  2.24716049e+01]]\n"
     ]
    }
   ],
   "source": [
    "# the risk space\n",
    "fre_eng.risk_space()"
   ]
  },
  {
   "cell_type": "markdown",
   "metadata": {},
   "source": [
    "> Looking at the above cluster centers,\n",
    "-  Cluster 0 has more recent, more frequent, low monetary value also low severity than Cluster 1 respectively, thus Cluster 0 indicates customers with non-defaulting behaviour while Cluster 1 shows default behavior."
   ]
  },
  {
   "cell_type": "code",
   "execution_count": 119,
   "metadata": {},
   "outputs": [
    {
     "data": {
      "text/plain": [
       "FraudResult\n",
       "0    95469\n",
       "1      193\n",
       "Name: count, dtype: int64"
      ]
     },
     "execution_count": 119,
     "metadata": {},
     "output_type": "execute_result"
    }
   ],
   "source": [
    "# checking for bias\n",
    "df['FraudResult'].value_counts()"
   ]
  },
  {
   "cell_type": "markdown",
   "metadata": {},
   "source": [
    "As it can be seen, their is high imbalance in the dataset on the value of *FraudResult* therefore number of clusers in 0 will be higher than in 1."
   ]
  },
  {
   "cell_type": "code",
   "execution_count": 120,
   "metadata": {},
   "outputs": [
    {
     "data": {
      "text/plain": [
       "Cluster\n",
       "0    95257\n",
       "1      405\n",
       "Name: count, dtype: int64"
      ]
     },
     "execution_count": 120,
     "metadata": {},
     "output_type": "execute_result"
    }
   ],
   "source": [
    "# check the number of customers in each clusters\n",
    "df = fre_eng.get_dataframe()\n",
    "df['Cluster'].value_counts()"
   ]
  },
  {
   "cell_type": "code",
   "execution_count": 121,
   "metadata": {},
   "outputs": [
    {
     "name": "stdout",
     "output_type": "stream",
     "text": [
      "Selected Continuous Features based on IV: ['Amount_Total', 'TransactionId_frequency', 'Amount', 'Value']\n",
      "Selected Categorical Features based on IV: ['ProviderId', 'ProductId', 'ProductCategory', 'ChannelId', 'PricingStrategy', 'Month', 'Day', 'Hour']\n",
      "All Selected Features: ['Amount_Total', 'TransactionId_frequency', 'Amount', 'Value', 'ProviderId', 'ProductId', 'ProductCategory', 'ChannelId', 'PricingStrategy', 'Month', 'Day', 'Hour']\n"
     ]
    }
   ],
   "source": [
    "# feature selection woe values and adding woe values of features\n",
    "fre_eng.woe_best_festures()"
   ]
  },
  {
   "cell_type": "code",
   "execution_count": 122,
   "metadata": {},
   "outputs": [],
   "source": [
    "# export the dataset for model training\n",
    "df = fre_eng.get_dataframe()\n",
    "df.to_csv('model_dataset.csv',index = False)"
   ]
  },
  {
   "cell_type": "code",
   "execution_count": 123,
   "metadata": {},
   "outputs": [],
   "source": [
    "# close logging\n",
    "fre_eng.close_log()"
   ]
  }
 ],
 "metadata": {
  "kernelspec": {
   "display_name": "myenv",
   "language": "python",
   "name": "python3"
  },
  "language_info": {
   "codemirror_mode": {
    "name": "ipython",
    "version": 3
   },
   "file_extension": ".py",
   "mimetype": "text/x-python",
   "name": "python",
   "nbconvert_exporter": "python",
   "pygments_lexer": "ipython3",
   "version": "3.12.0"
  }
 },
 "nbformat": 4,
 "nbformat_minor": 2
}
