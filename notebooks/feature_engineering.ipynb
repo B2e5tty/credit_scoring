{
 "cells": [
  {
   "cell_type": "markdown",
   "metadata": {},
   "source": [
    "# Feature Engineering\n",
    "- Create Aggregate Features\n",
    "- Extract Features\n",
    "- Encode Categorical Variables\n",
    "- Handle Missing Values\n",
    "- Normalize/Standardize Numerical Features"
   ]
  },
  {
   "cell_type": "code",
   "execution_count": 95,
   "metadata": {},
   "outputs": [],
   "source": [
    "import pandas as pd\n",
    "import numpy as np\n",
    "import importlib\n",
    "\n",
    "import os\n",
    "import sys\n",
    "\n",
    "sys.path.append(os.path.abspath(os.path.join('..','src')))\n",
    "\n",
    "import eda\n",
    "importlib.reload(eda)\n",
    "\n",
    "import feature_eng\n",
    "importlib.reload(feature_eng)\n",
    "\n",
    "import warnings\n",
    "warnings.filterwarnings('ignore')"
   ]
  },
  {
   "cell_type": "code",
   "execution_count": 96,
   "metadata": {},
   "outputs": [
    {
     "name": "stdout",
     "output_type": "stream",
     "text": [
      "New shape of the dataframe: (95662, 14)\n",
      "<class 'pandas.core.frame.DataFrame'>\n",
      "RangeIndex: 95662 entries, 0 to 95661\n",
      "Data columns (total 14 columns):\n",
      " #   Column                Non-Null Count  Dtype              \n",
      "---  ------                --------------  -----              \n",
      " 0   TransactionId         95662 non-null  category           \n",
      " 1   BatchId               95662 non-null  category           \n",
      " 2   AccountId             95662 non-null  category           \n",
      " 3   SubscriptionId        95662 non-null  category           \n",
      " 4   CustomerId            95662 non-null  category           \n",
      " 5   ProviderId            95662 non-null  category           \n",
      " 6   ProductId             95662 non-null  category           \n",
      " 7   ProductCategory       95662 non-null  category           \n",
      " 8   ChannelId             95662 non-null  category           \n",
      " 9   Amount                95662 non-null  float64            \n",
      " 10  Value                 95662 non-null  int64              \n",
      " 11  TransactionStartTime  95662 non-null  datetime64[ns, UTC]\n",
      " 12  PricingStrategy       95662 non-null  category           \n",
      " 13  FraudResult           95662 non-null  category           \n",
      "dtypes: category(11), datetime64[ns, UTC](1), float64(1), int64(1)\n",
      "memory usage: 10.0 MB\n",
      "Information on the new dataset: None\n"
     ]
    }
   ],
   "source": [
    "# intialize the feature engineering clas\n",
    "fre_eng = feature_eng.FeatEng('data.csv')\n",
    "fre_eng.change_datatype()\n",
    "\n",
    "df = fre_eng.get_dataframe()"
   ]
  },
  {
   "cell_type": "code",
   "execution_count": 97,
   "metadata": {},
   "outputs": [
    {
     "name": "stdout",
     "output_type": "stream",
     "text": [
      "(95662, 18)\n",
      "Shape of the dataframe (95662, 22)\n"
     ]
    }
   ],
   "source": [
    "# add total transaction feature\n",
    "fre_eng.aggregate_transaction()\n",
    "\n",
    "# extract each parts of datetime\n",
    "fre_eng.extract_datetime()"
   ]
  },
  {
   "cell_type": "code",
   "execution_count": 98,
   "metadata": {},
   "outputs": [
    {
     "name": "stdout",
     "output_type": "stream",
     "text": [
      "<class 'pandas.core.frame.DataFrame'>\n",
      "RangeIndex: 95662 entries, 0 to 95661\n",
      "Data columns (total 22 columns):\n",
      " #   Column                               Non-Null Count  Dtype              \n",
      "---  ------                               --------------  -----              \n",
      " 0   TransactionId                        95662 non-null  int64              \n",
      " 1   BatchId                              95662 non-null  int64              \n",
      " 2   AccountId                            95662 non-null  int64              \n",
      " 3   SubscriptionId                       95662 non-null  int64              \n",
      " 4   CustomerId                           95662 non-null  int64              \n",
      " 5   ProviderId                           95662 non-null  int64              \n",
      " 6   ProductId                            95662 non-null  int64              \n",
      " 7   ProductCategory                      95662 non-null  int64              \n",
      " 8   ChannelId                            95662 non-null  int64              \n",
      " 9   Amount                               95662 non-null  float64            \n",
      " 10  Value                                95662 non-null  int64              \n",
      " 11  TransactionStartTime                 95662 non-null  datetime64[ns, UTC]\n",
      " 12  PricingStrategy                      95662 non-null  int64              \n",
      " 13  FraudResult                          95662 non-null  int64              \n",
      " 14  Amount_Total                         95662 non-null  float64            \n",
      " 15  Amount_Average                       95662 non-null  float64            \n",
      " 16  TransactionId_number_of_Transaction  95662 non-null  int64              \n",
      " 17  Amount_std                           94950 non-null  float64            \n",
      " 18  Month                                95662 non-null  int32              \n",
      " 19  Year                                 95662 non-null  int32              \n",
      " 20  Day                                  95662 non-null  int32              \n",
      " 21  Hour                                 95662 non-null  int32              \n",
      "dtypes: datetime64[ns, UTC](1), float64(4), int32(4), int64(13)\n",
      "memory usage: 14.6 MB\n",
      "Columns informatio: None\n"
     ]
    }
   ],
   "source": [
    "# change categorical features to numerical\n",
    "fre_eng.label_encoder()"
   ]
  },
  {
   "cell_type": "code",
   "execution_count": 99,
   "metadata": {},
   "outputs": [
    {
     "name": "stdout",
     "output_type": "stream",
     "text": [
      "Column containing null value: Amount_std\n"
     ]
    }
   ],
   "source": [
    "# null value columns\n",
    "fre_eng.null_col()"
   ]
  },
  {
   "cell_type": "code",
   "execution_count": 100,
   "metadata": {},
   "outputs": [
    {
     "data": {
      "text/html": [
       "<div>\n",
       "<style scoped>\n",
       "    .dataframe tbody tr th:only-of-type {\n",
       "        vertical-align: middle;\n",
       "    }\n",
       "\n",
       "    .dataframe tbody tr th {\n",
       "        vertical-align: top;\n",
       "    }\n",
       "\n",
       "    .dataframe thead th {\n",
       "        text-align: right;\n",
       "    }\n",
       "</style>\n",
       "<table border=\"1\" class=\"dataframe\">\n",
       "  <thead>\n",
       "    <tr style=\"text-align: right;\">\n",
       "      <th></th>\n",
       "      <th>TransactionId</th>\n",
       "      <th>BatchId</th>\n",
       "      <th>AccountId</th>\n",
       "      <th>SubscriptionId</th>\n",
       "      <th>CustomerId</th>\n",
       "      <th>ProviderId</th>\n",
       "      <th>ProductId</th>\n",
       "      <th>ProductCategory</th>\n",
       "      <th>ChannelId</th>\n",
       "      <th>Amount</th>\n",
       "      <th>...</th>\n",
       "      <th>PricingStrategy</th>\n",
       "      <th>FraudResult</th>\n",
       "      <th>Amount_Total</th>\n",
       "      <th>Amount_Average</th>\n",
       "      <th>TransactionId_number_of_Transaction</th>\n",
       "      <th>Amount_std</th>\n",
       "      <th>Month</th>\n",
       "      <th>Year</th>\n",
       "      <th>Day</th>\n",
       "      <th>Hour</th>\n",
       "    </tr>\n",
       "  </thead>\n",
       "  <tbody>\n",
       "  </tbody>\n",
       "</table>\n",
       "<p>0 rows × 22 columns</p>\n",
       "</div>"
      ],
      "text/plain": [
       "Empty DataFrame\n",
       "Columns: [TransactionId, BatchId, AccountId, SubscriptionId, CustomerId, ProviderId, ProductId, ProductCategory, ChannelId, Amount, Value, TransactionStartTime, PricingStrategy, FraudResult, Amount_Total, Amount_Average, TransactionId_number_of_Transaction, Amount_std, Month, Year, Day, Hour]\n",
       "Index: []\n",
       "\n",
       "[0 rows x 22 columns]"
      ]
     },
     "execution_count": 100,
     "metadata": {},
     "output_type": "execute_result"
    }
   ],
   "source": [
    "# check\n",
    "df = fre_eng.get_dataframe()\n",
    "df[df['Amount_std'].isnull()]"
   ]
  },
  {
   "cell_type": "markdown",
   "metadata": {},
   "source": [
    "- Amount_std is null for customers with only one transaction."
   ]
  },
  {
   "cell_type": "code",
   "execution_count": null,
   "metadata": {},
   "outputs": [],
   "source": []
  }
 ],
 "metadata": {
  "kernelspec": {
   "display_name": "myenv",
   "language": "python",
   "name": "python3"
  },
  "language_info": {
   "codemirror_mode": {
    "name": "ipython",
    "version": 3
   },
   "file_extension": ".py",
   "mimetype": "text/x-python",
   "name": "python",
   "nbconvert_exporter": "python",
   "pygments_lexer": "ipython3",
   "version": "3.12.0"
  }
 },
 "nbformat": 4,
 "nbformat_minor": 2
}
